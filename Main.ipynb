{
 "cells": [
  {
   "cell_type": "markdown",
   "metadata": {},
   "source": [
    "# Вариант 3"
   ]
  },
  {
   "cell_type": "markdown",
   "metadata": {},
   "source": [
    "## Задание:"
   ]
  },
  {
   "cell_type": "markdown",
   "metadata": {},
   "source": [
    "3. Выполнить одну итерацию цикла обучения по Δ -правилу однослойной бинарной однородной нейронной сети, состоящей из 2 нейронов и имеющей сигмоидальную функцию активации (k=1). В качестве обучающей выборки использовать таблицу истинности для операций импликации и конъюнкции (не использовать первую строчку таблицы). Синаптические веса задать случайным образом."
   ]
  },
  {
   "cell_type": "markdown",
   "metadata": {},
   "source": [
    "#### Задаем входные параметры"
   ]
  },
  {
   "cell_type": "code",
   "execution_count": 27,
   "metadata": {},
   "outputs": [
    {
     "name": "stdout",
     "output_type": "stream",
     "text": [
      "[[0.20035743 0.36414197]\n",
      " [0.87426435 0.65946853]]\n",
      "[1 0]\n",
      "[0 0]\n"
     ]
    }
   ],
   "source": [
    "import random\n",
    "import math\n",
    "import numpy as np\n",
    "\n",
    "# Обучающая выборка\n",
    "# train_data = np.array([[0, 0], [0, 1], [1, 0], [1, 1]])\n",
    "train_data = np.array([\n",
    "    [0, 0, 1, 0], \n",
    "    [0, 1, 1, 0], \n",
    "    [1, 0, 0, 0], \n",
    "    [1, 1, 1, 1]\n",
    "])\n"
   ]
  },
  {
   "cell_type": "markdown",
   "metadata": {},
   "source": [
    "#### Функция активации сигмоида"
   ]
  },
  {
   "cell_type": "code",
   "execution_count": 33,
   "metadata": {},
   "outputs": [],
   "source": [
    "# Функция сигмоидальной активации\n",
    "def sigmoid(x):\n",
    "    return 1 / (1 + np.exp(-x))"
   ]
  },
  {
   "cell_type": "markdown",
   "metadata": {},
   "source": [
    "#### 1 шаг. Зададим матрицу весов случайным образом из интервала [0,1]"
   ]
  },
  {
   "cell_type": "code",
   "execution_count": 68,
   "metadata": {},
   "outputs": [
    {
     "name": "stdout",
     "output_type": "stream",
     "text": [
      "[[0.63021817 0.81386952]\n",
      " [0.19194099 0.68253289]]\n"
     ]
    }
   ],
   "source": [
    "weights = np.random.rand(2, 2)\n",
    "print(weights)"
   ]
  },
  {
   "cell_type": "markdown",
   "metadata": {},
   "source": [
    "#### 2 шаг. Вектор X и D"
   ]
  },
  {
   "cell_type": "code",
   "execution_count": 69,
   "metadata": {},
   "outputs": [
    {
     "name": "stdout",
     "output_type": "stream",
     "text": [
      "X: [1 0]\n",
      "D: [0 0]\n"
     ]
    }
   ],
   "source": [
    "\n",
    "\n",
    "vector_x = train_data[2][:2]\n",
    "vector_d = train_data[2][2:]\n",
    "\n",
    "print(f\"X: {vector_x}\")\n",
    "print(f\"D: {vector_d}\")\n",
    "\n"
   ]
  },
  {
   "cell_type": "markdown",
   "metadata": {},
   "source": [
    "#### 3 шаг: вычисление выходных значений нейронной сети (вектор Y)"
   ]
  },
  {
   "cell_type": "code",
   "execution_count": 70,
   "metadata": {},
   "outputs": [
    {
     "name": "stdout",
     "output_type": "stream",
     "text": [
      "y1: 0.6525389295882779\n",
      "y2: 0.5478384675648912\n"
     ]
    }
   ],
   "source": [
    "k = 1\n",
    "s1 = np.dot(vector_x, weights[0])\n",
    "y1 = sigmoid(s1 / k)\n",
    "\n",
    "s2 = np.dot(vector_x, weights[1])\n",
    "y2 = sigmoid(s2 / k)\n",
    "\n",
    "print(f\"y1: {y1}\")\n",
    "print(f\"y2: {y2}\")"
   ]
  },
  {
   "cell_type": "markdown",
   "metadata": {},
   "source": [
    "#### 4 шаг:"
   ]
  },
  {
   "cell_type": "code",
   "execution_count": 71,
   "metadata": {},
   "outputs": [
    {
     "name": "stdout",
     "output_type": "stream",
     "text": [
      "eps1: -0.6525389295882779\n",
      "eps2: -0.5478384675648912\n"
     ]
    }
   ],
   "source": [
    "eps1 = vector_d[0] - y1\n",
    "eps2 = vector_d[1] - y2\n",
    "\n",
    "print(f\"eps1: {eps1}\")\n",
    "print(f\"eps2: {eps2}\")"
   ]
  },
  {
   "cell_type": "markdown",
   "metadata": {},
   "source": [
    "#### 5 шаг: задаем  коэффициент обучения от 0 до 1 и изменяем веса"
   ]
  },
  {
   "cell_type": "code",
   "execution_count": 72,
   "metadata": {},
   "outputs": [
    {
     "name": "stdout",
     "output_type": "stream",
     "text": [
      "[[1.15224931 1.2521403 ]\n",
      " [0.19194099 0.68253289]]\n"
     ]
    }
   ],
   "source": [
    "train_coef = 0.8\n",
    "\n",
    "weights[0][0] = weights[0][0] - train_coef * eps1 * vector_x[0]\n",
    "weights[1][0] = weights[1][0] - train_coef * eps1 * vector_x[1]\n",
    "\n",
    "weights[0][1] = weights[0][1] - train_coef * eps2 * vector_x[0]\n",
    "weights[1][1] = weights[1][1] - train_coef * eps2 * vector_x[1]\n",
    "\n",
    "print(weights)"
   ]
  },
  {
   "cell_type": "markdown",
   "metadata": {},
   "source": [
    "#### 6 шаг: вычислим среднеквадратичную ошибку"
   ]
  },
  {
   "cell_type": "code",
   "execution_count": 74,
   "metadata": {},
   "outputs": [
    {
     "name": "stdout",
     "output_type": "stream",
     "text": [
      "eps: 0.7259340411720638\n"
     ]
    }
   ],
   "source": [
    "eps = eps1**2 + eps2**2\n",
    "print(f\"eps: {eps}\")"
   ]
  }
 ],
 "metadata": {
  "kernelspec": {
   "display_name": "Python 3 (ipykernel)",
   "language": "python",
   "name": "python3"
  },
  "language_info": {
   "codemirror_mode": {
    "name": "ipython",
    "version": 3
   },
   "file_extension": ".py",
   "mimetype": "text/x-python",
   "name": "python",
   "nbconvert_exporter": "python",
   "pygments_lexer": "ipython3",
   "version": "3.11.5"
  }
 },
 "nbformat": 4,
 "nbformat_minor": 5
}
