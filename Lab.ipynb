{
 "cells": [
  {
   "cell_type": "code",
   "execution_count": null,
   "metadata": {
    "colab": {
     "base_uri": "https://localhost:8080/"
    },
    "id": "lRxnZttDzK_Q",
    "outputId": "b01d5a3d-27f9-4bf7-9053-b6a93b31da60"
   },
   "outputs": [
    {
     "name": "stdout",
     "output_type": "stream",
     "text": [
      "Сгенерированные веса:  [0.28650764014282104, 0.31017635862090454, -0.9427857485437159]\n",
      "Обновленные синаптические веса: [-0.15645329789331955, -0.15141519244577367, -0.6113654028381841]\n"
     ]
    }
   ],
   "source": [
    "import random\n",
    "import math\n",
    "\n",
    "# Функция активации - гиперболический тангенс\n",
    "def activation_function(x):\n",
    "    return math.tanh(x)\n",
    "\n",
    "# Δ-правило\n",
    "def delta_rule(input_vector, weights, learning_rate, target_output):\n",
    "    # Вычисляем взвешенную сумму входных значений и синаптических весов\n",
    "    weighted_sum = sum([input_vector[i] * weights[i] for i in range(len(input_vector))])\n",
    "\n",
    "    # Применяем функцию активации к взвешенной сумме\n",
    "    output = activation_function(weighted_sum)\n",
    "\n",
    "    # Вычисляем ошибку\n",
    "    error = target_output - output\n",
    "\n",
    "    # Обновляем синаптические веса\n",
    "    for i in range(len(weights)):\n",
    "        weights[i] += learning_rate * error * input_vector[i]\n",
    "\n",
    "    return weights\n",
    "\n",
    "# Генерируем случайные синаптические веса\n",
    "weights = [random.uniform(-1, 1) for _ in range(3)]\n",
    "print(\"Сгенерированные веса: \", weights)\n",
    "\n",
    "# Генерируем случайную обучающую выборку\n",
    "training_data = [(random.uniform(-1, 1), random.uniform(-1, 1), random.uniform(-1, 1)) for _ in range(10)]\n",
    "\n",
    "# Задаем целевой выходной сигнал\n",
    "target_output = random.uniform(-1, 1)\n",
    "\n",
    "# Задаем скорость обучения\n",
    "learning_rate = 0.1\n",
    "\n",
    "# Выполняем одну итерацию цикла обучения\n",
    "for input_vector in training_data:\n",
    "    weights = delta_rule(input_vector, weights, learning_rate, target_output)\n",
    "\n",
    "# Выводим обновленные синаптические веса\n",
    "print(\"Обновленные синаптические веса:\", weights)"
   ]
  }
 ],
 "metadata": {
  "colab": {
   "provenance": []
  },
  "kernelspec": {
   "display_name": "Python 3 (ipykernel)",
   "language": "python",
   "name": "python3"
  },
  "language_info": {
   "codemirror_mode": {
    "name": "ipython",
    "version": 3
   },
   "file_extension": ".py",
   "mimetype": "text/x-python",
   "name": "python",
   "nbconvert_exporter": "python",
   "pygments_lexer": "ipython3",
   "version": "3.11.5"
  }
 },
 "nbformat": 4,
 "nbformat_minor": 4
}
